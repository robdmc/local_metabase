{
 "cells": [
  {
   "cell_type": "code",
   "execution_count": 1,
   "id": "53a10148-0fab-49b2-b1c2-82a7b2ee5763",
   "metadata": {
    "tags": []
   },
   "outputs": [],
   "source": [
    "import ibis\n",
    "import easier as ezr\n"
   ]
  },
  {
   "cell_type": "code",
   "execution_count": 3,
   "id": "7ac6fb32-9dc2-42a9-8118-406434dd7167",
   "metadata": {
    "tags": []
   },
   "outputs": [
    {
     "name": "stdout",
     "output_type": "stream",
     "text": [
      "[]\n"
     ]
    }
   ],
   "source": [
    "conn = ibis.postgres.connect(url=ezr.pg_creds_from_env())\n",
    "print(conn.list_tables())"
   ]
  },
  {
   "cell_type": "code",
   "execution_count": null,
   "id": "0a73a939-e405-4256-a16d-499886ed5877",
   "metadata": {
    "tags": []
   },
   "outputs": [],
   "source": []
  },
  {
   "cell_type": "code",
   "execution_count": null,
   "id": "76f7ba23-7cf4-4000-8c55-77ad0dea8511",
   "metadata": {},
   "outputs": [],
   "source": []
  }
 ],
 "metadata": {
  "kernelspec": {
   "display_name": "Python 3 (ipykernel)",
   "language": "python",
   "name": "python3"
  },
  "language_info": {
   "codemirror_mode": {
    "name": "ipython",
    "version": 3
   },
   "file_extension": ".py",
   "mimetype": "text/x-python",
   "name": "python",
   "nbconvert_exporter": "python",
   "pygments_lexer": "ipython3",
   "version": "3.8.12"
  }
 },
 "nbformat": 4,
 "nbformat_minor": 5
}
